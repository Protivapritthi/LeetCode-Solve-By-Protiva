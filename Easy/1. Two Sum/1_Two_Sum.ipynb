{
  "nbformat": 4,
  "nbformat_minor": 0,
  "metadata": {
    "colab": {
      "provenance": []
    },
    "kernelspec": {
      "name": "python3",
      "display_name": "Python 3"
    },
    "language_info": {
      "name": "python"
    }
  },
  "cells": [
    {
      "cell_type": "markdown",
      "source": [
        "1. Two Sum"
      ],
      "metadata": {
        "id": "yNz72SBv4_J4"
      }
    },
    {
      "cell_type": "code",
      "source": [
        "class Solution:\n",
        "    def twoSum(self, nums, target):\n",
        "        num_to_index = {}\n",
        "\n",
        "\n",
        "        for i, num in enumerate(nums):\n",
        "            complement = target - num\n",
        "\n",
        "\n",
        "            if complement in num_to_index:\n",
        "                return [num_to_index[complement], i]\n",
        "            num_to_index[num] = i\n",
        "        return []\n",
        "\n",
        "if __name__ == \"__main__\":\n",
        "\n",
        "    solution = Solution()\n",
        "\n",
        "    # Example 1\n",
        "    print(solution.twoSum([2, 7, 11, 15], 9))  # Output: [0, 1]\n",
        "\n",
        "    # Example 2\n",
        "    print(solution.twoSum([3, 2, 4], 6))  # Output: [1, 2]\n"
      ],
      "metadata": {
        "colab": {
          "base_uri": "https://localhost:8080/"
        },
        "id": "mV0KZQtd4_aU",
        "outputId": "43fc23e5-894c-4b34-cf1f-9f973f890525"
      },
      "execution_count": 2,
      "outputs": [
        {
          "output_type": "stream",
          "name": "stdout",
          "text": [
            "[0, 1]\n",
            "[1, 2]\n"
          ]
        }
      ]
    }
  ]
}